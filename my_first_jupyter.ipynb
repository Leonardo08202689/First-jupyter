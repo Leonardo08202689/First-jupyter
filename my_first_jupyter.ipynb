{
 "cells": [
  {
   "cell_type": "markdown",
   "metadata": {},
   "source": [
    "Title of the notebook"
   ]
  },
  {
   "cell_type": "markdown",
   "metadata": {},
   "source": [
    "This is the introduction of the notebook"
   ]
  },
  {
   "cell_type": "markdown",
   "metadata": {},
   "source": [
    "### Data Science Languages\n",
    "- Python\n",
    "- R\n",
    "- SQL\n",
    "- Julia\n",
    "- Scala\n",
    "- Java\n",
    "- C++\n",
    "- MATLAB\n"
   ]
  },
  {
   "cell_type": "markdown",
   "metadata": {},
   "source": [
    "### Data Science Libraries\n",
    "- NumPy\n",
    "- Pandas\n",
    "- Matplotlib\n",
    "- Seaborn\n",
    "- SciPy\n",
    "- Scikit-learn\n",
    "- TensorFlow\n",
    "- PyTorch\n",
    "- Keras\n",
    "- XGBoost\n"
   ]
  },
  {
   "cell_type": "markdown",
   "metadata": {},
   "source": [
    "### Data Science Tools\n",
    "\n",
    "| Tool            | Category             |\n",
    "|----------------|---------------------|\n",
    "| Jupyter Notebook | IDE / Notebook Environment |\n",
    "| RStudio         | IDE for R          |\n",
    "| Apache Spark   | Big Data Processing |\n",
    "| TensorFlow     | Machine Learning    |\n",
    "| Power BI       | Data Visualization  |\n",
    "| Tableau        | Data Visualization  |\n",
    "| Hadoop        | Big Data Processing  |\n"
   ]
  },
  {
   "cell_type": "markdown",
   "metadata": {},
   "source": [
    "### Arithmetic Expression Examples\n",
    "Arithmetic expressions include basic mathematical operations such as addition, subtraction, multiplication, and division. Below are some examples:\n",
    "\n",
    "- \\(3 + 5 = 8\\) (Addition)\n",
    "- \\(10 - 2 = 8\\) (Subtraction)\n",
    "- \\(4 \\times 6 = 24\\) (Multiplication)\n",
    "- \\(20 \\div 4 = 5\\) (Division)\n"
   ]
  },
  {
   "cell_type": "code",
   "execution_count": null,
   "metadata": {},
   "outputs": [],
   "source": [
    "# Multiplication and Addition\n",
    "a = 5\n",
    "b = 3\n",
    "\n",
    "multiplication = a * b\n",
    "addition = a + b\n",
    "\n",
    "print(\"Multiplication:\", multiplication)\n",
    "print(\"Addition:\", addition)\n"
   ]
  },
  {
   "cell_type": "code",
   "execution_count": null,
   "metadata": {},
   "outputs": [],
   "source": [
    "# Convert minutes to hours\n",
    "minutes = 120\n",
    "hours = minutes / 60\n",
    "\n",
    "print(f\"{minutes} minutes is equal to {hours} hours.\")"
   ]
  },
  {
   "cell_type": "markdown",
   "metadata": {},
   "source": [
    "### Objectives\n",
    "- Learn basic Markdown formatting in Jupyter Notebook\n",
    "- Understand common Data Science languages, libraries, and tools\n",
    "- Implement arithmetic expressions using Python\n",
    "- Perform simple unit conversions (e.g., minutes to hours)\n",
    "- Share the notebook via GitHub\n"
   ]
  },
  {
   "cell_type": "markdown",
   "metadata": {},
   "source": [
    "### Author\n",
    "**[Leonardo]**\n"
   ]
  }
 ],
 "metadata": {
  "language_info": {
   "name": "python"
  }
 },
 "nbformat": 4,
 "nbformat_minor": 2
}
